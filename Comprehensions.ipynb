{
 "cells": [
  {
   "cell_type": "code",
   "execution_count": 1,
   "metadata": {},
   "outputs": [
    {
     "name": "stdout",
     "output_type": "stream",
     "text": [
      "the output list is  [2, 4, 6]\n"
     ]
    }
   ],
   "source": [
    "input_list=[1,2,3,4,5,6,7]\n",
    "\n",
    "output_list=[]\n",
    "\n",
    "#using for loop to construct even number list\n",
    "\n",
    "for number in input_list:\n",
    "    if number %2 ==0:\n",
    "        output_list.append(number)\n",
    "print('the output list is ',output_list)"
   ]
  },
  {
   "cell_type": "code",
   "execution_count": 2,
   "metadata": {},
   "outputs": [
    {
     "name": "stdout",
     "output_type": "stream",
     "text": [
      "the output using list comprehension is [2, 4, 6]\n"
     ]
    }
   ],
   "source": [
    "# usage of list comprehension\n",
    "\n",
    "\n",
    "List_comprehension = [number for number in input_list if number %2 ==0]\n",
    "\n",
    "\n",
    "print('the output using list comprehension is',List_comprehension )"
   ]
  },
  {
   "cell_type": "code",
   "execution_count": 3,
   "metadata": {},
   "outputs": [
    {
     "name": "stdout",
     "output_type": "stream",
     "text": [
      "[1, 4, 9, 16, 25, 36, 49]\n"
     ]
    }
   ],
   "source": [
    "input_list=[1,2,3,4,5,6,7]\n",
    "\n",
    "\n",
    "lc = [number*number for number in input_list]\n",
    "print(lc)"
   ]
  },
  {
   "cell_type": "code",
   "execution_count": null,
   "metadata": {},
   "outputs": [],
   "source": []
  }
 ],
 "metadata": {
  "kernelspec": {
   "display_name": "Python 3",
   "language": "python",
   "name": "python3"
  },
  "language_info": {
   "codemirror_mode": {
    "name": "ipython",
    "version": 3
   },
   "file_extension": ".py",
   "mimetype": "text/x-python",
   "name": "python",
   "nbconvert_exporter": "python",
   "pygments_lexer": "ipython3",
   "version": "3.7.3"
  }
 },
 "nbformat": 4,
 "nbformat_minor": 2
}
